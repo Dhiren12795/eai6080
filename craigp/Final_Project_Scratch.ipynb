{
 "cells": [
  {
   "cell_type": "code",
   "execution_count": 1,
   "id": "87496e6c",
   "metadata": {},
   "outputs": [],
   "source": [
    "from sklearn.datasets import load_digits\n",
    "digits = load_digits()"
   ]
  },
  {
   "cell_type": "code",
   "execution_count": 2,
   "id": "5abea409",
   "metadata": {},
   "outputs": [
    {
     "name": "stdout",
     "output_type": "stream",
     "text": [
      "Image Data Shape (1797, 64)\n",
      "Label Data Shape (1797,)\n"
     ]
    }
   ],
   "source": [
    "# Print to show there are 1797 images (8 by 8 images for a dimensionality of 64)\n",
    "print('Image Data Shape' , digits.data.shape)\n",
    "# Print to show there are 1797 labels (integers from 0–9)\n",
    "print('Label Data Shape', digits.target.shape)"
   ]
  },
  {
   "cell_type": "code",
   "execution_count": 3,
   "id": "b5992f10",
   "metadata": {},
   "outputs": [
    {
     "data": {
      "image/png": "[encoded data removed]",
      "text/plain": [
       "<Figure size 1440x288 with 5 Axes>"
      ]
     },
     "metadata": {
      "needs_background": "light"
     },
     "output_type": "display_data"
    }
   ],
   "source": [
    "import numpy as np \n",
    "import matplotlib.pyplot as plt\n",
    "plt.figure(figsize=(20,4))\n",
    "for index, (image, label) in enumerate(zip(digits.data[0:5], digits.target[0:5])):\n",
    " plt.subplot(1, 5, index + 1)\n",
    " plt.imshow(np.reshape(image, (8,8)), cmap=plt.cm.gray)\n",
    " plt.title('Training: %i\\n' % label, fontsize = 20)\n",
    "plt.show()"
   ]
  },
  {
   "cell_type": "code",
   "execution_count": 4,
   "id": "04f6ed7e",
   "metadata": {},
   "outputs": [],
   "source": [
    "from sklearn.model_selection import train_test_split\n",
    "x_train, x_test, y_train, y_test = train_test_split(digits.data, digits.target, test_size=0.25, random_state=0)"
   ]
  },
  {
   "cell_type": "code",
   "execution_count": 32,
   "id": "fc1a9838",
   "metadata": {},
   "outputs": [
    {
     "data": {
      "text/plain": [
       "array([ 0.,  3., 13., 16.,  9.,  0.,  0.,  0.,  0., 10., 15., 13., 15.,\n",
       "        2.,  0.,  0.,  0., 15.,  4.,  4., 16.,  1.,  0.,  0.,  0.,  0.,\n",
       "        0.,  5., 16.,  2.,  0.,  0.,  0.,  0.,  1., 14., 13.,  0.,  0.,\n",
       "        0.,  0.,  0., 10., 16.,  5.,  0.,  0.,  0.,  0.,  4., 16., 13.,\n",
       "        8., 10.,  9.,  1.,  0.,  2., 16., 16., 14., 12.,  9.,  1.])"
      ]
     },
     "execution_count": 32,
     "metadata": {},
     "output_type": "execute_result"
    }
   ],
   "source": [
    "x_train[0]"
   ]
  },
  {
   "cell_type": "code",
   "execution_count": 8,
   "id": "f800d9c6",
   "metadata": {},
   "outputs": [
    {
     "name": "stdout",
     "output_type": "stream",
     "text": [
      "[20:00:19] WARNING: /Users/runner/work/xgboost/xgboost/src/learner.cc:1115: Starting in XGBoost 1.3.0, the default evaluation metric used with the objective 'multi:softprob' was changed from 'merror' to 'mlogloss'. Explicitly set eval_metric if you'd like to restore the old behavior.\n"
     ]
    },
    {
     "data": {
      "text/plain": [
       "XGBClassifier(base_score=0.5, booster='gbtree', colsample_bylevel=1,\n",
       "              colsample_bynode=1, colsample_bytree=1, enable_categorical=False,\n",
       "              gamma=0, gpu_id=-1, importance_type=None,\n",
       "              interaction_constraints='', learning_rate=0.300000012,\n",
       "              max_delta_step=0, max_depth=6, min_child_weight=1, missing=nan,\n",
       "              monotone_constraints='()', n_estimators=100, n_jobs=12,\n",
       "              num_parallel_tree=1, objective='multi:softprob', predictor='auto',\n",
       "              random_state=0, reg_alpha=0, reg_lambda=1, scale_pos_weight=None,\n",
       "              subsample=1, tree_method='exact', validate_parameters=1,\n",
       "              verbosity=None)"
      ]
     },
     "execution_count": 8,
     "metadata": {},
     "output_type": "execute_result"
    }
   ],
   "source": [
    "from xgboost import XGBClassifier\n",
    "\n",
    "xgboost_classifier = XGBClassifier()\n",
    "xgboost_classifier.fit(x_train, y_train)"
   ]
  },
  {
   "cell_type": "code",
   "execution_count": 9,
   "id": "f92e0b76",
   "metadata": {},
   "outputs": [
    {
     "data": {
      "text/plain": [
       "array([2])"
      ]
     },
     "execution_count": 9,
     "metadata": {},
     "output_type": "execute_result"
    }
   ],
   "source": [
    "# Returns a NumPy Array\n",
    "# Predict for One Observation (image)\n",
    "xgboost_classifier.predict(x_test[0].reshape(1,-1))"
   ]
  },
  {
   "cell_type": "code",
   "execution_count": 15,
   "id": "42b988eb",
   "metadata": {},
   "outputs": [
    {
     "data": {
      "text/plain": [
       "array([2, 8, 2, 6, 6, 7, 1, 9, 8, 5])"
      ]
     },
     "execution_count": 15,
     "metadata": {},
     "output_type": "execute_result"
    }
   ],
   "source": [
    "xgboost_classifier.predict(x_test[0:10])"
   ]
  },
  {
   "cell_type": "code",
   "execution_count": 14,
   "id": "924a1ecb",
   "metadata": {},
   "outputs": [],
   "source": [
    "predictions = xgboost_classifier.predict(x_test)"
   ]
  },
  {
   "cell_type": "code",
   "execution_count": 16,
   "id": "23e98cdd",
   "metadata": {},
   "outputs": [
    {
     "name": "stdout",
     "output_type": "stream",
     "text": [
      "0.9555555555555556\n"
     ]
    }
   ],
   "source": [
    "score = xgboost_classifier.score(x_test, y_test)\n",
    "print(score)"
   ]
  },
  {
   "cell_type": "code",
   "execution_count": 17,
   "id": "6a08be7d",
   "metadata": {},
   "outputs": [],
   "source": [
    "import matplotlib.pyplot as plt\n",
    "import seaborn as sns\n",
    "from sklearn import metrics"
   ]
  },
  {
   "cell_type": "code",
   "execution_count": 18,
   "id": "51f8c74a",
   "metadata": {},
   "outputs": [
    {
     "name": "stdout",
     "output_type": "stream",
     "text": [
      "[[36  0  0  0  0  1  0  0  0  0]\n",
      " [ 0 42  0  0  0  0  0  0  0  1]\n",
      " [ 1  0 42  0  0  0  0  0  1  0]\n",
      " [ 0  0  0 44  0  0  0  0  0  1]\n",
      " [ 0  0  0  0 37  0  0  1  0  0]\n",
      " [ 0  0  0  0  0 47  0  0  0  1]\n",
      " [ 0  1  0  0  0  0 50  0  1  0]\n",
      " [ 0  0  0  0  1  0  0 47  0  0]\n",
      " [ 0  3  0  2  0  0  0  0 42  1]\n",
      " [ 1  0  0  1  0  2  0  0  0 43]]\n"
     ]
    }
   ],
   "source": [
    "cm = metrics.confusion_matrix(y_test, predictions)\n",
    "print(cm)"
   ]
  },
  {
   "cell_type": "code",
   "execution_count": 19,
   "id": "62eddee9",
   "metadata": {},
   "outputs": [
    {
     "data": {
      "image/png": "[encoded data removed]",
      "text/plain": [
       "<Figure size 648x648 with 2 Axes>"
      ]
     },
     "metadata": {
      "needs_background": "light"
     },
     "output_type": "display_data"
    }
   ],
   "source": [
    "plt.figure(figsize=(9,9))\n",
    "sns.heatmap(cm, annot=True, fmt=\".3f\", linewidths=.5, square = True, cmap = 'Blues_r');\n",
    "plt.ylabel('Actual label');\n",
    "plt.xlabel('Predicted label');\n",
    "all_sample_title = 'Accuracy Score: {0}'.format(score)\n",
    "plt.title(all_sample_title, size = 15);"
   ]
  },
  {
   "cell_type": "code",
   "execution_count": 48,
   "id": "53f7b700",
   "metadata": {},
   "outputs": [
    {
     "data": {
      "text/plain": [
       "(1347, 64)"
      ]
     },
     "execution_count": 48,
     "metadata": {},
     "output_type": "execute_result"
    }
   ],
   "source": [
    "# Keras\n",
    "\n",
    "x_train.shape"
   ]
  },
  {
   "cell_type": "code",
   "execution_count": 54,
   "id": "64169053",
   "metadata": {},
   "outputs": [
    {
     "name": "stdout",
     "output_type": "stream",
     "text": [
      "Epoch 1/6\n"
     ]
    },
    {
     "ename": "InvalidArgumentError",
     "evalue": "Graph execution error:\n\nDetected at node 'sparse_categorical_crossentropy/SparseSoftmaxCrossEntropyWithLogits/SparseSoftmaxCrossEntropyWithLogits' defined at (most recent call last):\n    File \"/usr/local/Cellar/python@3.9/3.9.6/Frameworks/Python.framework/Versions/3.9/lib/python3.9/runpy.py\", line 197, in _run_module_as_main\n      return _run_code(code, main_globals, None,\n    File \"/usr/local/Cellar/python@3.9/3.9.6/Frameworks/Python.framework/Versions/3.9/lib/python3.9/runpy.py\", line 87, in _run_code\n      exec(code, run_globals)\n    File \"/Users/craigperkins/Documents/Northeastern/EAI6080/eai6080/env/lib/python3.9/site-packages/ipykernel_launcher.py\", line 16, in <module>\n      app.launch_new_instance()\n    File \"/Users/craigperkins/Documents/Northeastern/EAI6080/eai6080/env/lib/python3.9/site-packages/traitlets/config/application.py\", line 846, in launch_instance\n      app.start()\n    File \"/Users/craigperkins/Documents/Northeastern/EAI6080/eai6080/env/lib/python3.9/site-packages/ipykernel/kernelapp.py\", line 677, in start\n      self.io_loop.start()\n    File \"/Users/craigperkins/Documents/Northeastern/EAI6080/eai6080/env/lib/python3.9/site-packages/tornado/platform/asyncio.py\", line 199, in start\n      self.asyncio_loop.run_forever()\n    File \"/usr/local/Cellar/python@3.9/3.9.6/Frameworks/Python.framework/Versions/3.9/lib/python3.9/asyncio/base_events.py\", line 596, in run_forever\n      self._run_once()\n    File \"/usr/local/Cellar/python@3.9/3.9.6/Frameworks/Python.framework/Versions/3.9/lib/python3.9/asyncio/base_events.py\", line 1890, in _run_once\n      handle._run()\n    File \"/usr/local/Cellar/python@3.9/3.9.6/Frameworks/Python.framework/Versions/3.9/lib/python3.9/asyncio/events.py\", line 80, in _run\n      self._context.run(self._callback, *self._args)\n    File \"/Users/craigperkins/Documents/Northeastern/EAI6080/eai6080/env/lib/python3.9/site-packages/ipykernel/kernelbase.py\", line 461, in dispatch_queue\n      await self.process_one()\n    File \"/Users/craigperkins/Documents/Northeastern/EAI6080/eai6080/env/lib/python3.9/site-packages/ipykernel/kernelbase.py\", line 450, in process_one\n      await dispatch(*args)\n    File \"/Users/craigperkins/Documents/Northeastern/EAI6080/eai6080/env/lib/python3.9/site-packages/ipykernel/kernelbase.py\", line 357, in dispatch_shell\n      await result\n    File \"/Users/craigperkins/Documents/Northeastern/EAI6080/eai6080/env/lib/python3.9/site-packages/ipykernel/kernelbase.py\", line 652, in execute_request\n      reply_content = await reply_content\n    File \"/Users/craigperkins/Documents/Northeastern/EAI6080/eai6080/env/lib/python3.9/site-packages/ipykernel/ipkernel.py\", line 359, in do_execute\n      res = shell.run_cell(code, store_history=store_history, silent=silent)\n    File \"/Users/craigperkins/Documents/Northeastern/EAI6080/eai6080/env/lib/python3.9/site-packages/ipykernel/zmqshell.py\", line 532, in run_cell\n      return super().run_cell(*args, **kwargs)\n    File \"/Users/craigperkins/Documents/Northeastern/EAI6080/eai6080/env/lib/python3.9/site-packages/IPython/core/interactiveshell.py\", line 2768, in run_cell\n      result = self._run_cell(\n    File \"/Users/craigperkins/Documents/Northeastern/EAI6080/eai6080/env/lib/python3.9/site-packages/IPython/core/interactiveshell.py\", line 2814, in _run_cell\n      return runner(coro)\n    File \"/Users/craigperkins/Documents/Northeastern/EAI6080/eai6080/env/lib/python3.9/site-packages/IPython/core/async_helpers.py\", line 129, in _pseudo_sync_runner\n      coro.send(None)\n    File \"/Users/craigperkins/Documents/Northeastern/EAI6080/eai6080/env/lib/python3.9/site-packages/IPython/core/interactiveshell.py\", line 3012, in run_cell_async\n      has_raised = await self.run_ast_nodes(code_ast.body, cell_name,\n    File \"/Users/craigperkins/Documents/Northeastern/EAI6080/eai6080/env/lib/python3.9/site-packages/IPython/core/interactiveshell.py\", line 3191, in run_ast_nodes\n      if await self.run_code(code, result, async_=asy):\n    File \"/Users/craigperkins/Documents/Northeastern/EAI6080/eai6080/env/lib/python3.9/site-packages/IPython/core/interactiveshell.py\", line 3251, in run_code\n      exec(code_obj, self.user_global_ns, self.user_ns)\n    File \"/var/folders/7r/72pw73153fq0wxt3j2p7tklh0000gn/T/ipykernel_62659/903645837.py\", line 19, in <module>\n      model.fit(\n    File \"/Users/craigperkins/Documents/Northeastern/EAI6080/eai6080/env/lib/python3.9/site-packages/keras/utils/traceback_utils.py\", line 64, in error_handler\n      return fn(*args, **kwargs)\n    File \"/Users/craigperkins/Documents/Northeastern/EAI6080/eai6080/env/lib/python3.9/site-packages/keras/engine/training.py\", line 1384, in fit\n      tmp_logs = self.train_function(iterator)\n    File \"/Users/craigperkins/Documents/Northeastern/EAI6080/eai6080/env/lib/python3.9/site-packages/keras/engine/training.py\", line 1021, in train_function\n      return step_function(self, iterator)\n    File \"/Users/craigperkins/Documents/Northeastern/EAI6080/eai6080/env/lib/python3.9/site-packages/keras/engine/training.py\", line 1010, in step_function\n      outputs = model.distribute_strategy.run(run_step, args=(data,))\n    File \"/Users/craigperkins/Documents/Northeastern/EAI6080/eai6080/env/lib/python3.9/site-packages/keras/engine/training.py\", line 1000, in run_step\n      outputs = model.train_step(data)\n    File \"/Users/craigperkins/Documents/Northeastern/EAI6080/eai6080/env/lib/python3.9/site-packages/keras/engine/training.py\", line 860, in train_step\n      loss = self.compute_loss(x, y, y_pred, sample_weight)\n    File \"/Users/craigperkins/Documents/Northeastern/EAI6080/eai6080/env/lib/python3.9/site-packages/keras/engine/training.py\", line 918, in compute_loss\n      return self.compiled_loss(\n    File \"/Users/craigperkins/Documents/Northeastern/EAI6080/eai6080/env/lib/python3.9/site-packages/keras/engine/compile_utils.py\", line 201, in __call__\n      loss_value = loss_obj(y_t, y_p, sample_weight=sw)\n    File \"/Users/craigperkins/Documents/Northeastern/EAI6080/eai6080/env/lib/python3.9/site-packages/keras/losses.py\", line 141, in __call__\n      losses = call_fn(y_true, y_pred)\n    File \"/Users/craigperkins/Documents/Northeastern/EAI6080/eai6080/env/lib/python3.9/site-packages/keras/losses.py\", line 245, in call\n      return ag_fn(y_true, y_pred, **self._fn_kwargs)\n    File \"/Users/craigperkins/Documents/Northeastern/EAI6080/eai6080/env/lib/python3.9/site-packages/keras/losses.py\", line 1862, in sparse_categorical_crossentropy\n      return backend.sparse_categorical_crossentropy(\n    File \"/Users/craigperkins/Documents/Northeastern/EAI6080/eai6080/env/lib/python3.9/site-packages/keras/backend.py\", line 5202, in sparse_categorical_crossentropy\n      res = tf.nn.sparse_softmax_cross_entropy_with_logits(\nNode: 'sparse_categorical_crossentropy/SparseSoftmaxCrossEntropyWithLogits/SparseSoftmaxCrossEntropyWithLogits'\nlogits and labels must have the same first dimension, got logits shape [2048,10] and labels shape [32]\n\t [[{{node sparse_categorical_crossentropy/SparseSoftmaxCrossEntropyWithLogits/SparseSoftmaxCrossEntropyWithLogits}}]] [Op:__inference_train_function_3730]",
     "output_type": "error",
     "traceback": [
      "\u001b[0;31m---------------------------------------------------------------------------\u001b[0m",
      "\u001b[0;31mInvalidArgumentError\u001b[0m                      Traceback (most recent call last)",
      "Input \u001b[0;32mIn [54]\u001b[0m, in \u001b[0;36m<module>\u001b[0;34m\u001b[0m\n\u001b[1;32m      6\u001b[0m model \u001b[38;5;241m=\u001b[39m tf\u001b[38;5;241m.\u001b[39mkeras\u001b[38;5;241m.\u001b[39mmodels\u001b[38;5;241m.\u001b[39mSequential([\n\u001b[1;32m      7\u001b[0m   tf\u001b[38;5;241m.\u001b[39mkeras\u001b[38;5;241m.\u001b[39mInput(shape\u001b[38;5;241m=\u001b[39m(\u001b[38;5;241m64\u001b[39m, \u001b[38;5;241m1\u001b[39m)),\n\u001b[1;32m      8\u001b[0m \u001b[38;5;66;03m#   tf.keras.layers.Flatten(input_shape=(64,1)),\u001b[39;00m\n\u001b[1;32m      9\u001b[0m   tf\u001b[38;5;241m.\u001b[39mkeras\u001b[38;5;241m.\u001b[39mlayers\u001b[38;5;241m.\u001b[39mDense(\u001b[38;5;241m128\u001b[39m, activation\u001b[38;5;241m=\u001b[39m\u001b[38;5;124m'\u001b[39m\u001b[38;5;124mrelu\u001b[39m\u001b[38;5;124m'\u001b[39m),\n\u001b[1;32m     10\u001b[0m   tf\u001b[38;5;241m.\u001b[39mkeras\u001b[38;5;241m.\u001b[39mlayers\u001b[38;5;241m.\u001b[39mDense(\u001b[38;5;241m10\u001b[39m)\n\u001b[1;32m     11\u001b[0m ])\n\u001b[1;32m     13\u001b[0m model\u001b[38;5;241m.\u001b[39mcompile(\n\u001b[1;32m     14\u001b[0m     optimizer\u001b[38;5;241m=\u001b[39mtf\u001b[38;5;241m.\u001b[39mkeras\u001b[38;5;241m.\u001b[39moptimizers\u001b[38;5;241m.\u001b[39mAdam(\u001b[38;5;241m0.001\u001b[39m),\n\u001b[1;32m     15\u001b[0m     loss\u001b[38;5;241m=\u001b[39mtf\u001b[38;5;241m.\u001b[39mkeras\u001b[38;5;241m.\u001b[39mlosses\u001b[38;5;241m.\u001b[39mSparseCategoricalCrossentropy(from_logits\u001b[38;5;241m=\u001b[39m\u001b[38;5;28;01mTrue\u001b[39;00m),\n\u001b[1;32m     16\u001b[0m     metrics\u001b[38;5;241m=\u001b[39m[tf\u001b[38;5;241m.\u001b[39mkeras\u001b[38;5;241m.\u001b[39mmetrics\u001b[38;5;241m.\u001b[39mSparseCategoricalAccuracy()],\n\u001b[1;32m     17\u001b[0m )\n\u001b[0;32m---> 19\u001b[0m \u001b[43mmodel\u001b[49m\u001b[38;5;241;43m.\u001b[39;49m\u001b[43mfit\u001b[49m\u001b[43m(\u001b[49m\n\u001b[1;32m     20\u001b[0m \u001b[43m    \u001b[49m\u001b[43mx_train\u001b[49m\u001b[43m,\u001b[49m\n\u001b[1;32m     21\u001b[0m \u001b[43m    \u001b[49m\u001b[43my_train\u001b[49m\u001b[43m,\u001b[49m\n\u001b[1;32m     22\u001b[0m \u001b[43m    \u001b[49m\u001b[43mepochs\u001b[49m\u001b[38;5;241;43m=\u001b[39;49m\u001b[38;5;241;43m6\u001b[39;49m\n\u001b[1;32m     23\u001b[0m \u001b[43m)\u001b[49m\n",
      "File \u001b[0;32m~/Documents/Northeastern/EAI6080/eai6080/env/lib/python3.9/site-packages/keras/utils/traceback_utils.py:67\u001b[0m, in \u001b[0;36mfilter_traceback.<locals>.error_handler\u001b[0;34m(*args, **kwargs)\u001b[0m\n\u001b[1;32m     65\u001b[0m \u001b[38;5;28;01mexcept\u001b[39;00m \u001b[38;5;167;01mException\u001b[39;00m \u001b[38;5;28;01mas\u001b[39;00m e:  \u001b[38;5;66;03m# pylint: disable=broad-except\u001b[39;00m\n\u001b[1;32m     66\u001b[0m   filtered_tb \u001b[38;5;241m=\u001b[39m _process_traceback_frames(e\u001b[38;5;241m.\u001b[39m__traceback__)\n\u001b[0;32m---> 67\u001b[0m   \u001b[38;5;28;01mraise\u001b[39;00m e\u001b[38;5;241m.\u001b[39mwith_traceback(filtered_tb) \u001b[38;5;28;01mfrom\u001b[39;00m \u001b[38;5;28mNone\u001b[39m\n\u001b[1;32m     68\u001b[0m \u001b[38;5;28;01mfinally\u001b[39;00m:\n\u001b[1;32m     69\u001b[0m   \u001b[38;5;28;01mdel\u001b[39;00m filtered_tb\n",
      "File \u001b[0;32m~/Documents/Northeastern/EAI6080/eai6080/env/lib/python3.9/site-packages/tensorflow/python/eager/execute.py:54\u001b[0m, in \u001b[0;36mquick_execute\u001b[0;34m(op_name, num_outputs, inputs, attrs, ctx, name)\u001b[0m\n\u001b[1;32m     52\u001b[0m \u001b[38;5;28;01mtry\u001b[39;00m:\n\u001b[1;32m     53\u001b[0m   ctx\u001b[38;5;241m.\u001b[39mensure_initialized()\n\u001b[0;32m---> 54\u001b[0m   tensors \u001b[38;5;241m=\u001b[39m pywrap_tfe\u001b[38;5;241m.\u001b[39mTFE_Py_Execute(ctx\u001b[38;5;241m.\u001b[39m_handle, device_name, op_name,\n\u001b[1;32m     55\u001b[0m                                       inputs, attrs, num_outputs)\n\u001b[1;32m     56\u001b[0m \u001b[38;5;28;01mexcept\u001b[39;00m core\u001b[38;5;241m.\u001b[39m_NotOkStatusException \u001b[38;5;28;01mas\u001b[39;00m e:\n\u001b[1;32m     57\u001b[0m   \u001b[38;5;28;01mif\u001b[39;00m name \u001b[38;5;129;01mis\u001b[39;00m \u001b[38;5;129;01mnot\u001b[39;00m \u001b[38;5;28;01mNone\u001b[39;00m:\n",
      "\u001b[0;31mInvalidArgumentError\u001b[0m: Graph execution error:\n\nDetected at node 'sparse_categorical_crossentropy/SparseSoftmaxCrossEntropyWithLogits/SparseSoftmaxCrossEntropyWithLogits' defined at (most recent call last):\n    File \"/usr/local/Cellar/python@3.9/3.9.6/Frameworks/Python.framework/Versions/3.9/lib/python3.9/runpy.py\", line 197, in _run_module_as_main\n      return _run_code(code, main_globals, None,\n    File \"/usr/local/Cellar/python@3.9/3.9.6/Frameworks/Python.framework/Versions/3.9/lib/python3.9/runpy.py\", line 87, in _run_code\n      exec(code, run_globals)\n    File \"/Users/craigperkins/Documents/Northeastern/EAI6080/eai6080/env/lib/python3.9/site-packages/ipykernel_launcher.py\", line 16, in <module>\n      app.launch_new_instance()\n    File \"/Users/craigperkins/Documents/Northeastern/EAI6080/eai6080/env/lib/python3.9/site-packages/traitlets/config/application.py\", line 846, in launch_instance\n      app.start()\n    File \"/Users/craigperkins/Documents/Northeastern/EAI6080/eai6080/env/lib/python3.9/site-packages/ipykernel/kernelapp.py\", line 677, in start\n      self.io_loop.start()\n    File \"/Users/craigperkins/Documents/Northeastern/EAI6080/eai6080/env/lib/python3.9/site-packages/tornado/platform/asyncio.py\", line 199, in start\n      self.asyncio_loop.run_forever()\n    File \"/usr/local/Cellar/python@3.9/3.9.6/Frameworks/Python.framework/Versions/3.9/lib/python3.9/asyncio/base_events.py\", line 596, in run_forever\n      self._run_once()\n    File \"/usr/local/Cellar/python@3.9/3.9.6/Frameworks/Python.framework/Versions/3.9/lib/python3.9/asyncio/base_events.py\", line 1890, in _run_once\n      handle._run()\n    File \"/usr/local/Cellar/python@3.9/3.9.6/Frameworks/Python.framework/Versions/3.9/lib/python3.9/asyncio/events.py\", line 80, in _run\n      self._context.run(self._callback, *self._args)\n    File \"/Users/craigperkins/Documents/Northeastern/EAI6080/eai6080/env/lib/python3.9/site-packages/ipykernel/kernelbase.py\", line 461, in dispatch_queue\n      await self.process_one()\n    File \"/Users/craigperkins/Documents/Northeastern/EAI6080/eai6080/env/lib/python3.9/site-packages/ipykernel/kernelbase.py\", line 450, in process_one\n      await dispatch(*args)\n    File \"/Users/craigperkins/Documents/Northeastern/EAI6080/eai6080/env/lib/python3.9/site-packages/ipykernel/kernelbase.py\", line 357, in dispatch_shell\n      await result\n    File \"/Users/craigperkins/Documents/Northeastern/EAI6080/eai6080/env/lib/python3.9/site-packages/ipykernel/kernelbase.py\", line 652, in execute_request\n      reply_content = await reply_content\n    File \"/Users/craigperkins/Documents/Northeastern/EAI6080/eai6080/env/lib/python3.9/site-packages/ipykernel/ipkernel.py\", line 359, in do_execute\n      res = shell.run_cell(code, store_history=store_history, silent=silent)\n    File \"/Users/craigperkins/Documents/Northeastern/EAI6080/eai6080/env/lib/python3.9/site-packages/ipykernel/zmqshell.py\", line 532, in run_cell\n      return super().run_cell(*args, **kwargs)\n    File \"/Users/craigperkins/Documents/Northeastern/EAI6080/eai6080/env/lib/python3.9/site-packages/IPython/core/interactiveshell.py\", line 2768, in run_cell\n      result = self._run_cell(\n    File \"/Users/craigperkins/Documents/Northeastern/EAI6080/eai6080/env/lib/python3.9/site-packages/IPython/core/interactiveshell.py\", line 2814, in _run_cell\n      return runner(coro)\n    File \"/Users/craigperkins/Documents/Northeastern/EAI6080/eai6080/env/lib/python3.9/site-packages/IPython/core/async_helpers.py\", line 129, in _pseudo_sync_runner\n      coro.send(None)\n    File \"/Users/craigperkins/Documents/Northeastern/EAI6080/eai6080/env/lib/python3.9/site-packages/IPython/core/interactiveshell.py\", line 3012, in run_cell_async\n      has_raised = await self.run_ast_nodes(code_ast.body, cell_name,\n    File \"/Users/craigperkins/Documents/Northeastern/EAI6080/eai6080/env/lib/python3.9/site-packages/IPython/core/interactiveshell.py\", line 3191, in run_ast_nodes\n      if await self.run_code(code, result, async_=asy):\n    File \"/Users/craigperkins/Documents/Northeastern/EAI6080/eai6080/env/lib/python3.9/site-packages/IPython/core/interactiveshell.py\", line 3251, in run_code\n      exec(code_obj, self.user_global_ns, self.user_ns)\n    File \"/var/folders/7r/72pw73153fq0wxt3j2p7tklh0000gn/T/ipykernel_62659/903645837.py\", line 19, in <module>\n      model.fit(\n    File \"/Users/craigperkins/Documents/Northeastern/EAI6080/eai6080/env/lib/python3.9/site-packages/keras/utils/traceback_utils.py\", line 64, in error_handler\n      return fn(*args, **kwargs)\n    File \"/Users/craigperkins/Documents/Northeastern/EAI6080/eai6080/env/lib/python3.9/site-packages/keras/engine/training.py\", line 1384, in fit\n      tmp_logs = self.train_function(iterator)\n    File \"/Users/craigperkins/Documents/Northeastern/EAI6080/eai6080/env/lib/python3.9/site-packages/keras/engine/training.py\", line 1021, in train_function\n      return step_function(self, iterator)\n    File \"/Users/craigperkins/Documents/Northeastern/EAI6080/eai6080/env/lib/python3.9/site-packages/keras/engine/training.py\", line 1010, in step_function\n      outputs = model.distribute_strategy.run(run_step, args=(data,))\n    File \"/Users/craigperkins/Documents/Northeastern/EAI6080/eai6080/env/lib/python3.9/site-packages/keras/engine/training.py\", line 1000, in run_step\n      outputs = model.train_step(data)\n    File \"/Users/craigperkins/Documents/Northeastern/EAI6080/eai6080/env/lib/python3.9/site-packages/keras/engine/training.py\", line 860, in train_step\n      loss = self.compute_loss(x, y, y_pred, sample_weight)\n    File \"/Users/craigperkins/Documents/Northeastern/EAI6080/eai6080/env/lib/python3.9/site-packages/keras/engine/training.py\", line 918, in compute_loss\n      return self.compiled_loss(\n    File \"/Users/craigperkins/Documents/Northeastern/EAI6080/eai6080/env/lib/python3.9/site-packages/keras/engine/compile_utils.py\", line 201, in __call__\n      loss_value = loss_obj(y_t, y_p, sample_weight=sw)\n    File \"/Users/craigperkins/Documents/Northeastern/EAI6080/eai6080/env/lib/python3.9/site-packages/keras/losses.py\", line 141, in __call__\n      losses = call_fn(y_true, y_pred)\n    File \"/Users/craigperkins/Documents/Northeastern/EAI6080/eai6080/env/lib/python3.9/site-packages/keras/losses.py\", line 245, in call\n      return ag_fn(y_true, y_pred, **self._fn_kwargs)\n    File \"/Users/craigperkins/Documents/Northeastern/EAI6080/eai6080/env/lib/python3.9/site-packages/keras/losses.py\", line 1862, in sparse_categorical_crossentropy\n      return backend.sparse_categorical_crossentropy(\n    File \"/Users/craigperkins/Documents/Northeastern/EAI6080/eai6080/env/lib/python3.9/site-packages/keras/backend.py\", line 5202, in sparse_categorical_crossentropy\n      res = tf.nn.sparse_softmax_cross_entropy_with_logits(\nNode: 'sparse_categorical_crossentropy/SparseSoftmaxCrossEntropyWithLogits/SparseSoftmaxCrossEntropyWithLogits'\nlogits and labels must have the same first dimension, got logits shape [2048,10] and labels shape [32]\n\t [[{{node sparse_categorical_crossentropy/SparseSoftmaxCrossEntropyWithLogits/SparseSoftmaxCrossEntropyWithLogits}}]] [Op:__inference_train_function_3730]"
     ]
    }
   ],
   "source": [
    "import tensorflow as tf\n",
    "\n",
    "ds_train = tf.data.Dataset.from_tensor_slices((x_train, y_train))\n",
    "ds_test = tf.data.Dataset.from_tensor_slices((x_test, y_test))\n",
    "\n",
    "model = tf.keras.models.Sequential([\n",
    "  tf.keras.Input(shape=(64, 1)),\n",
    "#   tf.keras.layers.Flatten(input_shape=(64,1)),\n",
    "  tf.keras.layers.Dense(128, activation='relu'),\n",
    "  tf.keras.layers.Dense(10)\n",
    "])\n",
    "\n",
    "model.compile(\n",
    "    optimizer=tf.keras.optimizers.Adam(0.001),\n",
    "    loss=tf.keras.losses.SparseCategoricalCrossentropy(from_logits=True),\n",
    "    metrics=[tf.keras.metrics.SparseCategoricalAccuracy()],\n",
    ")\n",
    "\n",
    "model.fit(\n",
    "    x_train,\n",
    "    y_train,\n",
    "    epochs=6\n",
    ")"
   ]
  },
  {
   "cell_type": "code",
   "execution_count": 62,
   "id": "77a56dab",
   "metadata": {},
   "outputs": [
    {
     "name": "stdout",
     "output_type": "stream",
     "text": [
      "Epoch 1/50\n",
      "135/135 [==============================] - 1s 3ms/step - loss: 0.7265 - accuracy: 0.8144 - val_loss: 0.2356 - val_accuracy: 0.9133\n",
      "Epoch 2/50\n",
      "135/135 [==============================] - 0s 1ms/step - loss: 0.1124 - accuracy: 0.9599 - val_loss: 0.2497 - val_accuracy: 0.9244\n",
      "Epoch 3/50\n",
      "135/135 [==============================] - 0s 1ms/step - loss: 0.0593 - accuracy: 0.9807 - val_loss: 0.1195 - val_accuracy: 0.9667\n",
      "Epoch 4/50\n",
      "135/135 [==============================] - 0s 1ms/step - loss: 0.0461 - accuracy: 0.9866 - val_loss: 0.1206 - val_accuracy: 0.9600\n",
      "Epoch 5/50\n",
      "135/135 [==============================] - 0s 1ms/step - loss: 0.0126 - accuracy: 0.9985 - val_loss: 0.1349 - val_accuracy: 0.9511\n",
      "Epoch 6/50\n",
      "135/135 [==============================] - 0s 1ms/step - loss: 0.0072 - accuracy: 1.0000 - val_loss: 0.0922 - val_accuracy: 0.9711\n",
      "Epoch 7/50\n",
      "135/135 [==============================] - 0s 1ms/step - loss: 0.0033 - accuracy: 1.0000 - val_loss: 0.1014 - val_accuracy: 0.9689\n",
      "Epoch 8/50\n",
      "135/135 [==============================] - 0s 1ms/step - loss: 0.0025 - accuracy: 1.0000 - val_loss: 0.0860 - val_accuracy: 0.9756\n",
      "Epoch 9/50\n",
      "135/135 [==============================] - 0s 1ms/step - loss: 0.0016 - accuracy: 1.0000 - val_loss: 0.0849 - val_accuracy: 0.9756\n",
      "Epoch 10/50\n",
      "135/135 [==============================] - 0s 1ms/step - loss: 0.0014 - accuracy: 1.0000 - val_loss: 0.0802 - val_accuracy: 0.9733\n",
      "Epoch 11/50\n",
      "135/135 [==============================] - 0s 1ms/step - loss: 0.0011 - accuracy: 1.0000 - val_loss: 0.0807 - val_accuracy: 0.9733\n",
      "Epoch 12/50\n",
      "135/135 [==============================] - 0s 1ms/step - loss: 9.1877e-04 - accuracy: 1.0000 - val_loss: 0.0859 - val_accuracy: 0.9756\n",
      "Epoch 13/50\n",
      "135/135 [==============================] - 0s 1ms/step - loss: 7.6439e-04 - accuracy: 1.0000 - val_loss: 0.0846 - val_accuracy: 0.9756\n",
      "Epoch 14/50\n",
      "135/135 [==============================] - 0s 1ms/step - loss: 6.4804e-04 - accuracy: 1.0000 - val_loss: 0.0826 - val_accuracy: 0.9778\n",
      "Epoch 15/50\n",
      "135/135 [==============================] - 0s 1ms/step - loss: 5.9009e-04 - accuracy: 1.0000 - val_loss: 0.0848 - val_accuracy: 0.9778\n",
      "Epoch 16/50\n",
      "135/135 [==============================] - 0s 1ms/step - loss: 5.0189e-04 - accuracy: 1.0000 - val_loss: 0.0863 - val_accuracy: 0.9778\n",
      "Epoch 17/50\n",
      "135/135 [==============================] - 0s 1ms/step - loss: 4.4733e-04 - accuracy: 1.0000 - val_loss: 0.0874 - val_accuracy: 0.9756\n",
      "Epoch 18/50\n",
      "135/135 [==============================] - 0s 1ms/step - loss: 3.6527e-04 - accuracy: 1.0000 - val_loss: 0.0854 - val_accuracy: 0.9756\n",
      "Epoch 19/50\n",
      "135/135 [==============================] - 0s 1ms/step - loss: 3.3172e-04 - accuracy: 1.0000 - val_loss: 0.0881 - val_accuracy: 0.9778\n",
      "Epoch 20/50\n",
      "135/135 [==============================] - 0s 1ms/step - loss: 2.9014e-04 - accuracy: 1.0000 - val_loss: 0.0872 - val_accuracy: 0.9756\n",
      "Epoch 21/50\n",
      "135/135 [==============================] - 0s 1ms/step - loss: 2.5796e-04 - accuracy: 1.0000 - val_loss: 0.0856 - val_accuracy: 0.9778\n",
      "Epoch 22/50\n",
      "135/135 [==============================] - 0s 1ms/step - loss: 2.3395e-04 - accuracy: 1.0000 - val_loss: 0.0887 - val_accuracy: 0.9756\n",
      "Epoch 23/50\n",
      "135/135 [==============================] - 0s 1ms/step - loss: 2.0570e-04 - accuracy: 1.0000 - val_loss: 0.0888 - val_accuracy: 0.9778\n",
      "Epoch 24/50\n",
      "135/135 [==============================] - 0s 1ms/step - loss: 1.8420e-04 - accuracy: 1.0000 - val_loss: 0.0869 - val_accuracy: 0.9800\n",
      "Epoch 25/50\n",
      "135/135 [==============================] - 0s 1ms/step - loss: 1.6509e-04 - accuracy: 1.0000 - val_loss: 0.0889 - val_accuracy: 0.9778\n",
      "Epoch 26/50\n",
      "135/135 [==============================] - 0s 1ms/step - loss: 1.5014e-04 - accuracy: 1.0000 - val_loss: 0.0890 - val_accuracy: 0.9778\n",
      "Epoch 27/50\n",
      "135/135 [==============================] - 0s 1ms/step - loss: 1.3462e-04 - accuracy: 1.0000 - val_loss: 0.0867 - val_accuracy: 0.9800\n",
      "Epoch 28/50\n",
      "135/135 [==============================] - 0s 1ms/step - loss: 1.2201e-04 - accuracy: 1.0000 - val_loss: 0.0898 - val_accuracy: 0.9778\n",
      "Epoch 29/50\n",
      "135/135 [==============================] - 0s 1ms/step - loss: 1.0799e-04 - accuracy: 1.0000 - val_loss: 0.0883 - val_accuracy: 0.9778\n",
      "Epoch 30/50\n",
      "135/135 [==============================] - 0s 1ms/step - loss: 9.8979e-05 - accuracy: 1.0000 - val_loss: 0.0883 - val_accuracy: 0.9800\n",
      "Epoch 31/50\n",
      "135/135 [==============================] - 0s 1ms/step - loss: 8.7354e-05 - accuracy: 1.0000 - val_loss: 0.0893 - val_accuracy: 0.9822\n",
      "Epoch 32/50\n",
      "135/135 [==============================] - 0s 1ms/step - loss: 8.0285e-05 - accuracy: 1.0000 - val_loss: 0.0871 - val_accuracy: 0.9822\n",
      "Epoch 33/50\n",
      "135/135 [==============================] - 0s 1ms/step - loss: 7.2721e-05 - accuracy: 1.0000 - val_loss: 0.0873 - val_accuracy: 0.9800\n",
      "Epoch 34/50\n",
      "135/135 [==============================] - 0s 1ms/step - loss: 6.7641e-05 - accuracy: 1.0000 - val_loss: 0.0893 - val_accuracy: 0.9800\n",
      "Epoch 35/50\n",
      "135/135 [==============================] - 0s 1ms/step - loss: 6.1232e-05 - accuracy: 1.0000 - val_loss: 0.0901 - val_accuracy: 0.9800\n",
      "Epoch 36/50\n",
      "135/135 [==============================] - 0s 1ms/step - loss: 5.5503e-05 - accuracy: 1.0000 - val_loss: 0.0906 - val_accuracy: 0.9800\n",
      "Epoch 37/50\n",
      "135/135 [==============================] - 0s 1ms/step - loss: 5.0472e-05 - accuracy: 1.0000 - val_loss: 0.0933 - val_accuracy: 0.9778\n",
      "Epoch 38/50\n",
      "135/135 [==============================] - 0s 1ms/step - loss: 4.8669e-05 - accuracy: 1.0000 - val_loss: 0.0913 - val_accuracy: 0.9822\n",
      "Epoch 39/50\n",
      "135/135 [==============================] - 0s 1ms/step - loss: 4.2456e-05 - accuracy: 1.0000 - val_loss: 0.0899 - val_accuracy: 0.9800\n",
      "Epoch 40/50\n",
      "135/135 [==============================] - 0s 1ms/step - loss: 3.9318e-05 - accuracy: 1.0000 - val_loss: 0.0927 - val_accuracy: 0.9800\n",
      "Epoch 41/50\n",
      "135/135 [==============================] - 0s 1ms/step - loss: 3.5734e-05 - accuracy: 1.0000 - val_loss: 0.0897 - val_accuracy: 0.9822\n",
      "Epoch 42/50\n",
      "135/135 [==============================] - 0s 1ms/step - loss: 3.2464e-05 - accuracy: 1.0000 - val_loss: 0.0937 - val_accuracy: 0.9800\n",
      "Epoch 43/50\n",
      "135/135 [==============================] - 0s 1ms/step - loss: 3.0604e-05 - accuracy: 1.0000 - val_loss: 0.0923 - val_accuracy: 0.9822\n",
      "Epoch 44/50\n",
      "135/135 [==============================] - 0s 1ms/step - loss: 2.7227e-05 - accuracy: 1.0000 - val_loss: 0.0939 - val_accuracy: 0.9822\n",
      "Epoch 45/50\n",
      "135/135 [==============================] - 0s 1ms/step - loss: 2.5445e-05 - accuracy: 1.0000 - val_loss: 0.0934 - val_accuracy: 0.9822\n",
      "Epoch 46/50\n",
      "135/135 [==============================] - 0s 1ms/step - loss: 2.3869e-05 - accuracy: 1.0000 - val_loss: 0.0942 - val_accuracy: 0.9822\n",
      "Epoch 47/50\n",
      "135/135 [==============================] - 0s 1ms/step - loss: 2.1203e-05 - accuracy: 1.0000 - val_loss: 0.0913 - val_accuracy: 0.9822\n",
      "Epoch 48/50\n",
      "135/135 [==============================] - 0s 1ms/step - loss: 2.0028e-05 - accuracy: 1.0000 - val_loss: 0.0956 - val_accuracy: 0.9822\n",
      "Epoch 49/50\n",
      "135/135 [==============================] - 0s 1ms/step - loss: 1.8032e-05 - accuracy: 1.0000 - val_loss: 0.0934 - val_accuracy: 0.9822\n",
      "Epoch 50/50\n",
      "135/135 [==============================] - 0s 1ms/step - loss: 1.6244e-05 - accuracy: 1.0000 - val_loss: 0.1002 - val_accuracy: 0.9800\n"
     ]
    }
   ],
   "source": [
    "from keras.models import Sequential\n",
    "from keras.layers import Dense\n",
    "from keras.wrappers.scikit_learn import KerasClassifier\n",
    "from keras.utils import np_utils\n",
    "from sklearn.model_selection import cross_val_score\n",
    "from sklearn.model_selection import KFold\n",
    "from sklearn.preprocessing import LabelEncoder\n",
    "from sklearn.pipeline import Pipeline\n",
    "\n",
    "model = Sequential()\n",
    "model.add(Dense(100, input_dim=64, activation='relu'))\n",
    "model.add(Dense(200, activation='relu'))\n",
    "model.add(Dense(10, activation='softmax'))\n",
    "model.compile(loss='sparse_categorical_crossentropy', optimizer='adam', metrics=['accuracy'])\n",
    "\n",
    "mnist_dense_2 = model.fit(x_train, y_train, validation_data=(x_test,y_test), \n",
    "                                    epochs=50, batch_size=10)\n"
   ]
  },
  {
   "cell_type": "code",
   "execution_count": 69,
   "id": "4dfb5028",
   "metadata": {},
   "outputs": [
    {
     "data": {
      "text/plain": [
       "2"
      ]
     },
     "execution_count": 69,
     "metadata": {},
     "output_type": "execute_result"
    }
   ],
   "source": [
    "y_prob = model.predict(x_test[0].reshape(1,-1))\n",
    "\n",
    "y_classes = y_prob.argmax(axis=-1)\n",
    "\n",
    "y_classes[0]"
   ]
  },
  {
   "cell_type": "code",
   "execution_count": 70,
   "id": "02a8c354",
   "metadata": {},
   "outputs": [
    {
     "data": {
      "text/plain": [
       "array([2, 8, 2, 6, 6, 7, 1, 9, 8, 5])"
      ]
     },
     "execution_count": 70,
     "metadata": {},
     "output_type": "execute_result"
    }
   ],
   "source": [
    "y_prob = model.predict(x_test[0:10])\n",
    "\n",
    "y_classes = y_prob.argmax(axis=-1)\n",
    "\n",
    "y_classes"
   ]
  },
  {
   "cell_type": "code",
   "execution_count": 71,
   "id": "f0a0458d",
   "metadata": {},
   "outputs": [],
   "source": [
    "y_prob = model.predict(x_test)\n",
    "\n",
    "y_classes = y_prob.argmax(axis=-1)\n"
   ]
  },
  {
   "cell_type": "code",
   "execution_count": 72,
   "id": "9ee06486",
   "metadata": {},
   "outputs": [
    {
     "name": "stdout",
     "output_type": "stream",
     "text": [
      "[[37  0  0  0  0  0  0  0  0  0]\n",
      " [ 0 42  0  0  0  0  1  0  0  0]\n",
      " [ 0  0 44  0  0  0  0  0  0  0]\n",
      " [ 0  0  1 44  0  0  0  0  0  0]\n",
      " [ 0  0  0  0 38  0  0  0  0  0]\n",
      " [ 0  0  0  0  0 47  0  0  0  1]\n",
      " [ 0  1  0  0  0  0 51  0  0  0]\n",
      " [ 0  0  0  0  0  0  0 48  0  0]\n",
      " [ 0  2  1  0  0  1  0  0 44  0]\n",
      " [ 0  0  0  0  0  1  0  0  0 46]]\n"
     ]
    }
   ],
   "source": [
    "cm = metrics.confusion_matrix(y_test, y_classes)\n",
    "print(cm)"
   ]
  },
  {
   "cell_type": "code",
   "execution_count": 76,
   "id": "f83beb6f",
   "metadata": {},
   "outputs": [
    {
     "name": "stdout",
     "output_type": "stream",
     "text": [
      "y_test[118] (Actual: 6) was predicted incorrectly as 1\n",
      "y_test[124] (Actual: 8) was predicted incorrectly as 1\n",
      "y_test[130] (Actual: 9) was predicted incorrectly as 5\n",
      "y_test[181] (Actual: 5) was predicted incorrectly as 9\n",
      "y_test[331] (Actual: 1) was predicted incorrectly as 6\n",
      "y_test[335] (Actual: 8) was predicted incorrectly as 2\n",
      "y_test[378] (Actual: 3) was predicted incorrectly as 2\n",
      "y_test[398] (Actual: 8) was predicted incorrectly as 1\n",
      "y_test[437] (Actual: 8) was predicted incorrectly as 5\n"
     ]
    }
   ],
   "source": [
    "idx = 0\n",
    "for y_t, y_p in zip(y_test, y_classes):\n",
    "    if y_t != y_p:\n",
    "        print(f\"y_test[{idx}] (Actual: {y_t}) was predicted incorrectly as {y_p}\")\n",
    "    idx += 1"
   ]
  },
  {
   "cell_type": "code",
   "execution_count": 80,
   "id": "94bda7df",
   "metadata": {},
   "outputs": [
    {
     "data": {
      "image/png": "[encoded data removed]",
      "text/plain": [
       "<Figure size 1440x288 with 1 Axes>"
      ]
     },
     "metadata": {
      "needs_background": "light"
     },
     "output_type": "display_data"
    }
   ],
   "source": [
    "import numpy as np \n",
    "import matplotlib.pyplot as plt\n",
    "plt.figure(figsize=(20,4))\n",
    "plt.subplot(1, 5, index + 1)\n",
    "plt.imshow(np.reshape(x_test[118], (8,8)), cmap=plt.cm.gray)\n",
    "plt.title('Training: %i\\n' % label, fontsize = 20)\n",
    "plt.show()"
   ]
  },
  {
   "cell_type": "code",
   "execution_count": null,
   "id": "38b12604",
   "metadata": {},
   "outputs": [],
   "source": []
  }
 ],
 "metadata": {
  "kernelspec": {
   "display_name": "Python 3 (ipykernel)",
   "language": "python",
   "name": "python3"
  },
  "language_info": {
   "codemirror_mode": {
    "name": "ipython",
    "version": 3
   },
   "file_extension": ".py",
   "mimetype": "text/x-python",
   "name": "python",
   "nbconvert_exporter": "python",
   "pygments_lexer": "ipython3",
   "version": "3.9.6"
  }
 },
 "nbformat": 4,
 "nbformat_minor": 5
}

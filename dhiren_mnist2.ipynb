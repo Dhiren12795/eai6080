{
 "cells": [
  {
   "cell_type": "markdown",
   "metadata": {
    "id": "5eAucugjc-Jg"
   },
   "source": [
    "\n",
    "**QUESTION 1**"
   ]
  },
  {
   "cell_type": "markdown",
   "metadata": {
    "id": "vDawc3WYdEAm"
   },
   "source": [
    "PART 1\n",
    "1.   (3*3*3 + 1) * 100 = 2800\n",
    "2.   (3*3*100 + 1) * 200 = 180200\n",
    "3.   (3*3*200 + 1) * 200 = 720400\n",
    "4.   2800 + 180200 + 720400 = 903400\n",
    "\n",
    "\n",
    "\n",
    "\n",
    "\n"
   ]
  },
  {
   "cell_type": "markdown",
   "metadata": {
    "id": "_lekIM5KeDKj"
   },
   "source": [
    "PART 2\n",
    "1.   32 * 903400 * 0.000000125 = 3.6136\n",
    "\n"
   ]
  },
  {
   "cell_type": "markdown",
   "metadata": {
    "id": "_ORy2qiceSyO"
   },
   "source": [
    "PART 3\n",
    "1.   8 * 903400 * 0.00000125 = 0.9034\n",
    "\n",
    "\n"
   ]
  },
  {
   "cell_type": "markdown",
   "metadata": {
    "id": "Iz8_XYH9eq4a"
   },
   "source": [
    "PART 4\n",
    "1.   3.6136\n",
    "\n"
   ]
  },
  {
   "cell_type": "markdown",
   "metadata": {
    "id": "bAYvKco_ezo2"
   },
   "source": [
    "\n",
    "**QUESTION 2**"
   ]
  },
  {
   "cell_type": "code",
   "execution_count": null,
   "metadata": {
    "id": "CSiEii0Xcmb_"
   },
   "outputs": [],
   "source": [
    "import numpy as np\n",
    "import pandas as pd\n",
    "import matplotlib.pyplot as plt\n",
    "import tensorflow as tf\n",
    "from tensorflow import keras\n",
    "from keras.datasets import mnist\n",
    "from keras.utils.np_utils import to_categorical\n",
    "from sklearn.model_selection import cross_val_score\n",
    "from  tensorflow.keras.wrappers.scikit_learn import KerasClassifier\n",
    "from tensorflow.keras.models import Model, Sequential\n",
    "from tensorflow.keras.layers import Conv2D, BatchNormalization, MaxPooling2D, Dropout, Dense, Flatten\n",
    "from keras.preprocessing.image import ImageDataGenerator\n",
    "from keras.utils import np_utils"
   ]
  },
  {
   "cell_type": "code",
   "execution_count": null,
   "metadata": {
    "id": "4zRFjlUexn6X"
   },
   "outputs": [],
   "source": [
    "(X_train, y_train), (X_test, y_test) = mnist.load_data()"
   ]
  },
  {
   "cell_type": "code",
   "execution_count": null,
   "metadata": {
    "id": "yIw1Ku3iyIJH"
   },
   "outputs": [],
   "source": [
    "X_train = X_train/255\n",
    "X_test = X_test/255\n",
    "X_train, X_valid = X_train[:-5000], X_train[:-5000]\n",
    "y_train, y_valid = y_train[:-5000], y_train[:-5000]"
   ]
  },
  {
   "cell_type": "code",
   "execution_count": null,
   "metadata": {
    "id": "sIKpJsqL2I2B"
   },
   "outputs": [],
   "source": [
    "X_train = X_train[...,np.newaxis]\n",
    "X_valid = X_valid[...,np.newaxis]\n",
    "X_test = X_test[...,np.newaxis]"
   ]
  },
  {
   "cell_type": "code",
   "execution_count": null,
   "metadata": {
    "colab": {
     "base_uri": "https://localhost:8080/"
    },
    "id": "vSZJyE-UyYeu",
    "outputId": "4b86ce2c-e316-4a61-cc8d-b76cac66c56a"
   },
   "outputs": [
    {
     "name": "stdout",
     "output_type": "stream",
     "text": [
      "X_train original shape (55000, 28, 28, 1)\n",
      "y_train original shape (55000,)\n",
      "X_test original shape (10000, 28, 28, 1)\n",
      "y_test original shape (10000,)\n"
     ]
    }
   ],
   "source": [
    "print(\"X_train original shape\", X_train.shape)\n",
    "print(\"y_train original shape\", y_train.shape)\n",
    "print(\"X_test original shape\", X_test.shape)\n",
    "print(\"y_test original shape\", y_test.shape)"
   ]
  },
  {
   "cell_type": "code",
   "execution_count": null,
   "metadata": {
    "id": "RBqG8t6F2-OM"
   },
   "outputs": [],
   "source": [
    "number_of_classes = 10\n",
    "\n",
    "Y_train = np_utils.to_categorical(y_train, number_of_classes)\n",
    "Y_test = np_utils.to_categorical(y_test, number_of_classes)"
   ]
  },
  {
   "cell_type": "code",
   "execution_count": null,
   "metadata": {
    "colab": {
     "base_uri": "https://localhost:8080/"
    },
    "id": "tcKNLQOh3SWq",
    "outputId": "975757ec-b6a2-464e-89f7-8ca7da9b1d58"
   },
   "outputs": [
    {
     "name": "stdout",
     "output_type": "stream",
     "text": [
      "Model: \"sequential\"\n",
      "_________________________________________________________________\n",
      " Layer (type)                Output Shape              Param #   \n",
      "=================================================================\n",
      " conv2d (Conv2D)             (None, 28, 28, 64)        640       \n",
      "                                                                 \n",
      " batch_normalization (BatchN  (None, 28, 28, 64)       256       \n",
      " ormalization)                                                   \n",
      "                                                                 \n",
      " conv2d_1 (Conv2D)           (None, 28, 28, 64)        36928     \n",
      "                                                                 \n",
      " batch_normalization_1 (Batc  (None, 28, 28, 64)       256       \n",
      " hNormalization)                                                 \n",
      "                                                                 \n",
      " max_pooling2d (MaxPooling2D  (None, 14, 14, 64)       0         \n",
      " )                                                               \n",
      "                                                                 \n",
      " dropout (Dropout)           (None, 14, 14, 64)        0         \n",
      "                                                                 \n",
      " conv2d_2 (Conv2D)           (None, 14, 14, 64)        36928     \n",
      "                                                                 \n",
      " batch_normalization_2 (Batc  (None, 14, 14, 64)       256       \n",
      " hNormalization)                                                 \n",
      "                                                                 \n",
      " conv2d_3 (Conv2D)           (None, 14, 14, 64)        36928     \n",
      "                                                                 \n",
      " batch_normalization_3 (Batc  (None, 14, 14, 64)       256       \n",
      " hNormalization)                                                 \n",
      "                                                                 \n",
      " max_pooling2d_1 (MaxPooling  (None, 7, 7, 64)         0         \n",
      " 2D)                                                             \n",
      "                                                                 \n",
      " dropout_1 (Dropout)         (None, 7, 7, 64)          0         \n",
      "                                                                 \n",
      " flatten (Flatten)           (None, 3136)              0         \n",
      "                                                                 \n",
      " dense (Dense)               (None, 128)               401536    \n",
      "                                                                 \n",
      " batch_normalization_4 (Batc  (None, 128)              512       \n",
      " hNormalization)                                                 \n",
      "                                                                 \n",
      " dropout_2 (Dropout)         (None, 128)               0         \n",
      "                                                                 \n",
      " dense_1 (Dense)             (None, 10)                1290      \n",
      "                                                                 \n",
      "=================================================================\n",
      "Total params: 515,786\n",
      "Trainable params: 515,018\n",
      "Non-trainable params: 768\n",
      "_________________________________________________________________\n"
     ]
    }
   ],
   "source": [
    "def make_model():\n",
    "     model = Sequential()\n",
    "     model.add(Conv2D(64, kernel_size=3, activation='relu', padding='same', input_shape=(28,28,1)))\n",
    "     model.add(BatchNormalization())\n",
    "     model.add(Conv2D(64, kernel_size=3, activation='relu', padding='same'))\n",
    "     model.add(BatchNormalization())\n",
    "     model.add(MaxPooling2D())\n",
    "     model.add(Dropout(0.25))\n",
    "\n",
    "     model.add(Conv2D(64, kernel_size=3, activation='relu', padding='same'))\n",
    "     model.add(BatchNormalization())\n",
    "     model.add(Conv2D(64, kernel_size=3, activation='relu', padding='same'))\n",
    "     model.add(BatchNormalization())\n",
    "     model.add(MaxPooling2D())\n",
    "     model.add(Dropout(0.25))\n",
    "\n",
    "     model.add(Flatten())\n",
    "     model.add(Dense(128, activation='relu'))\n",
    "     model.add(BatchNormalization())\n",
    "     model.add(Dropout(0.5))\n",
    "     model.add(Dense(10, activation='softmax'))\n",
    "     \n",
    "     return model\n",
    "\n",
    "model = make_model()\n",
    "model.summary()"
   ]
  },
  {
   "cell_type": "code",
   "execution_count": 24,
   "metadata": {
    "id": "pDQu0YnD4dyj"
   },
   "outputs": [],
   "source": [
    "gen = ImageDataGenerator(rotation_range=5, width_shift_range=0.10, shear_range=0.5,\n",
    "                         height_shift_range=0.10, zoom_range=0.10)\n",
    "\n",
    "test_gen = ImageDataGenerator()"
   ]
  },
  {
   "cell_type": "code",
   "execution_count": null,
   "metadata": {
    "id": "-C2Vk8_P4hR1"
   },
   "outputs": [],
   "source": [
    "train_generator = gen.flow(X_train, Y_train, batch_size=64)\n",
    "test_generator = test_gen.flow(X_test, Y_test, batch_size=64)"
   ]
  },
  {
   "cell_type": "code",
   "execution_count": null,
   "metadata": {
    "colab": {
     "base_uri": "https://localhost:8080/"
    },
    "id": "DFUcRLUcBuC0",
    "outputId": "e08a323f-4391-47c7-ac6f-2eca4ee006cb"
   },
   "outputs": [
    {
     "name": "stderr",
     "output_type": "stream",
     "text": [
      "/usr/local/lib/python3.7/dist-packages/keras/optimizer_v2/adamax.py:90: UserWarning: The `lr` argument is deprecated, use `learning_rate` instead.\n",
      "  super(Adamax, self).__init__(name, **kwargs)\n"
     ]
    }
   ],
   "source": [
    "INIT_LR = 0.01  # initial learning rate\n",
    "BATCH_SIZE = 64\n",
    "EPOCHS = 10\n",
    "\n",
    "s = tf.keras.backend.clear_session()  # clear default graph\n",
    "model = make_model()\n",
    "\n",
    "model.compile(\n",
    "    loss='categorical_crossentropy',  \n",
    "    optimizer=tf.keras.optimizers.Adamax(lr=INIT_LR),  \n",
    "    metrics=['accuracy']  \n",
    ")\n"
   ]
  },
  {
   "cell_type": "code",
   "execution_count": null,
   "metadata": {
    "id": "Mk1n03Y2B2oF"
   },
   "outputs": [],
   "source": [
    "def lr_scheduler(epoch):\n",
    "    return INIT_LR * 0.9 ** epoch"
   ]
  },
  {
   "cell_type": "code",
   "execution_count": null,
   "metadata": {
    "id": "7jGWBjoXB3Rv"
   },
   "outputs": [],
   "source": [
    "class LrHistory(tf.keras.callbacks.Callback):\n",
    "    def on_epoch_begin(self, epoch, logs={}):\n",
    "        print(\"Learning rate:\", tf.keras.backend.get_value(model.optimizer.lr))"
   ]
  },
  {
   "cell_type": "code",
   "execution_count": null,
   "metadata": {
    "colab": {
     "base_uri": "https://localhost:8080/"
    },
    "id": "X4LXPCX04o1C",
    "outputId": "730b34a5-1b4b-44a5-cb85-d5cb5a65575a"
   },
   "outputs": [
    {
     "name": "stdout",
     "output_type": "stream",
     "text": [
      "Epoch 1/10\n",
      "860/860 [==============================] - 525s 610ms/step - loss: 0.1015 - accuracy: 0.9695 - val_loss: 0.0244 - val_accuracy: 0.9912\n",
      "Epoch 2/10\n",
      "860/860 [==============================] - 527s 613ms/step - loss: 0.0854 - accuracy: 0.9742 - val_loss: 0.0434 - val_accuracy: 0.9866\n",
      "Epoch 3/10\n",
      "860/860 [==============================] - 527s 613ms/step - loss: 0.0682 - accuracy: 0.9792 - val_loss: 0.0402 - val_accuracy: 0.9887\n",
      "Epoch 4/10\n",
      "860/860 [==============================] - 529s 615ms/step - loss: 0.0618 - accuracy: 0.9811 - val_loss: 0.0195 - val_accuracy: 0.9937\n",
      "Epoch 5/10\n",
      "860/860 [==============================] - 523s 608ms/step - loss: 0.0552 - accuracy: 0.9831 - val_loss: 0.0194 - val_accuracy: 0.9938\n",
      "Epoch 6/10\n",
      "860/860 [==============================] - 512s 595ms/step - loss: 0.0473 - accuracy: 0.9859 - val_loss: 0.0191 - val_accuracy: 0.9933\n",
      "Epoch 7/10\n",
      "860/860 [==============================] - 515s 599ms/step - loss: 0.0444 - accuracy: 0.9862 - val_loss: 0.0158 - val_accuracy: 0.9944\n",
      "Epoch 8/10\n",
      "860/860 [==============================] - 519s 604ms/step - loss: 0.0427 - accuracy: 0.9871 - val_loss: 0.0145 - val_accuracy: 0.9943\n",
      "Epoch 9/10\n",
      "860/860 [==============================] - 515s 599ms/step - loss: 0.0375 - accuracy: 0.9889 - val_loss: 0.0137 - val_accuracy: 0.9958\n",
      "Epoch 10/10\n",
      "860/860 [==============================] - 518s 603ms/step - loss: 0.0402 - accuracy: 0.9883 - val_loss: 0.0154 - val_accuracy: 0.9950\n"
     ]
    }
   ],
   "source": [
    "history = model.fit(train_generator, epochs=EPOCHS, \n",
    "                    validation_data=test_generator, batch_size = BATCH_SIZE)"
   ]
  },
  {
   "cell_type": "code",
   "execution_count": null,
   "metadata": {
    "colab": {
     "base_uri": "https://localhost:8080/"
    },
    "id": "TUp-Tfhi4tIx",
    "outputId": "ac54dc33-571b-4f40-86df-80ca30ab229d"
   },
   "outputs": [
    {
     "name": "stdout",
     "output_type": "stream",
     "text": [
      "313/313 [==============================] - 22s 70ms/step - loss: 0.0154 - accuracy: 0.9950\n",
      "\n",
      "Test accuracy:  0.9950000047683716\n"
     ]
    }
   ],
   "source": [
    "score = model.evaluate(X_test, Y_test)\n",
    "print()\n",
    "print('Test accuracy: ', score[1])"
   ]
  },
  {
   "cell_type": "code",
   "execution_count": null,
   "metadata": {
    "colab": {
     "base_uri": "https://localhost:8080/",
     "height": 295
    },
    "id": "BFloMILoCDep",
    "outputId": "8911446b-07f2-4e95-ced2-e6d6a1bb7372"
   },
   "outputs": [
    {
     "data": {
      "image/png": "[encoded data removed]",
      "text/plain": [
       "<Figure size 432x288 with 1 Axes>"
      ]
     },
     "metadata": {
      "needs_background": "light"
     },
     "output_type": "display_data"
    }
   ],
   "source": [
    "plt.plot(history.history['loss'])\n",
    "plt.plot(history.history['val_loss'])\n",
    "plt.title('model loss')\n",
    "plt.ylabel('loss')\n",
    "plt.xlabel('epoch')\n",
    "plt.legend(['train', 'test'], loc='upper left')\n",
    "plt.show()"
   ]
  },
  {
   "cell_type": "code",
   "execution_count": null,
   "metadata": {
    "id": "sfWeExCh40LC"
   },
   "outputs": [],
   "source": []
  }
 ],
 "metadata": {
  "colab": {
   "collapsed_sections": [],
   "name": "Untitled4.ipynb",
   "provenance": []
  },
  "kernelspec": {
   "display_name": "Python 3",
   "language": "python",
   "name": "python3"
  },
  "language_info": {
   "codemirror_mode": {
    "name": "ipython",
    "version": 3
   },
   "file_extension": ".py",
   "mimetype": "text/x-python",
   "name": "python",
   "nbconvert_exporter": "python",
   "pygments_lexer": "ipython3",
   "version": "3.8.8"
  }
 },
 "nbformat": 4,
 "nbformat_minor": 4
}
